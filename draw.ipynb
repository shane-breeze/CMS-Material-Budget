{
 "cells": [
  {
   "cell_type": "code",
   "execution_count": 1,
   "metadata": {},
   "outputs": [],
   "source": [
    "import uproot\n",
    "import numpy as np\n",
    "import pandas as pd\n",
    "import matplotlib.pyplot as plt"
   ]
  },
  {
   "cell_type": "code",
   "execution_count": 2,
   "metadata": {},
   "outputs": [],
   "source": [
    "plt.rcParams[\"figure.dpi\"] = 100\n",
    "plt.rcParams[\"text.usetex\"] = True"
   ]
  },
  {
   "cell_type": "code",
   "execution_count": 3,
   "metadata": {},
   "outputs": [],
   "source": [
    "def read_tree(path, tree):\n",
    "    return uproot.open(path)[tree].pandas.df()\n",
    "\n",
    "def calc_xw(x, w, bins):\n",
    "    count, _ = np.histogram(x, bins=bins)\n",
    "    hist, _ = np.histogram(x, bins=bins, weights=w)\n",
    "    hist /= count\n",
    "    return bins[:-1], hist"
   ]
  },
  {
   "cell_type": "code",
   "execution_count": 4,
   "metadata": {},
   "outputs": [],
   "source": [
    "bins = np.linspace(-5, 5, 201)\n",
    "\n",
    "configs = [\n",
    "    {\n",
    "        \"label\": \"BeamPipe\",\n",
    "        \"path\": \"data/matbdg_det-Beam.root\",\n",
    "        \"tree\": \"T1\",\n",
    "        \"color\": \"#cab2d6\",\n",
    "    }, {\n",
    "        \"label\": \"Tracker\",\n",
    "        \"path\": \"data/matbdg_det-Tracker.root\",\n",
    "        \"tree\": \"T1\",\n",
    "        \"color\": \"#a6cee3\",\n",
    "    }, {\n",
    "        \"label\": \"ECAL\",\n",
    "        \"path\": \"data/matbdg_det-ECAL.root\",\n",
    "        \"tree\": \"T1\",\n",
    "        \"color\": \"#b2df8a\",\n",
    "    }, {\n",
    "        \"label\": \"HCAL\",\n",
    "        \"path\": \"data/matbdg_det-HCAL.root\",\n",
    "        \"tree\": \"T1\",\n",
    "        \"color\": \"#fdbf6f\",\n",
    "    }, {\n",
    "        \"label\": \"Magnet\",\n",
    "        \"path\": \"data/matbdg_det-Magnet.root\",\n",
    "        \"tree\": \"T1\",\n",
    "        \"color\": \"#d9d9d9\",\n",
    "    }, {\n",
    "        \"label\": \"Muon\",\n",
    "        \"path\": \"data/matbdg_det-Muon.root\",\n",
    "        \"tree\": \"T1\",\n",
    "        \"color\": \"#fb9a99\",\n",
    "    }\n",
    "]"
   ]
  },
  {
   "cell_type": "code",
   "execution_count": 5,
   "metadata": {},
   "outputs": [],
   "source": [
    "for config in configs:\n",
    "    df = read_tree(config[\"path\"], config[\"tree\"])\n",
    "    df.to_hdf(\n",
    "        \"data/matbdg.h5\", config[\"label\"],\n",
    "        format='table', append=False,\n",
    "        complib='zlib', complevel=9,\n",
    "    )"
   ]
  },
  {
   "cell_type": "code",
   "execution_count": 6,
   "metadata": {},
   "outputs": [
    {
     "data": {
      "image/png": "[encoded data removed]",
      "text/plain": [
       "<Figure size 600x400 with 1 Axes>"
      ]
     },
     "metadata": {
      "needs_background": "light"
     },
     "output_type": "display_data"
    }
   ],
   "source": [
    "data = {\n",
    "    \"xvalue\": [],\n",
    "    \"wvalue\": [],\n",
    "    \"labels\": [],\n",
    "    \"colors\": [],\n",
    "}\n",
    "for config in configs:\n",
    "    df = read_tree(config[\"path\"], config[\"tree\"])\n",
    "    x, w = calc_xw(df[\"Particle Eta\"], df[\"MB\"], bins)\n",
    "    data[\"xvalue\"].append(x)\n",
    "    data[\"wvalue\"].append(w)\n",
    "    data[\"labels\"].append(config[\"label\"])\n",
    "    data[\"colors\"].append(config[\"color\"])\n",
    "    \n",
    "plt.hist(\n",
    "    data[\"xvalue\"], bins=bins, weights=data[\"wvalue\"],\n",
    "    label=data[\"labels\"], color=data[\"colors\"], stacked=True,\n",
    ")\n",
    "plt.legend(\n",
    "    columnspacing=1.,\n",
    "    loc=9, ncol=3,\n",
    ")\n",
    "plt.xlim(-5, 5)\n",
    "plt.ylim(0, 1.4*sum(data[\"wvalue\"]).max())\n",
    "plt.xlabel('$\\eta$')\n",
    "plt.ylabel('$x/\\lambda_0$')\n",
    "plt.savefig(\n",
    "    \"images/radiation_lengths.pdf\",\n",
    "    bbox_inches='tight',\n",
    ")\n",
    "pass"
   ]
  },
  {
   "cell_type": "code",
   "execution_count": 7,
   "metadata": {},
   "outputs": [
    {
     "data": {
      "image/png": "[encoded data removed]",
      "text/plain": [
       "<Figure size 600x400 with 1 Axes>"
      ]
     },
     "metadata": {
      "needs_background": "light"
     },
     "output_type": "display_data"
    }
   ],
   "source": [
    "data = {\n",
    "    \"xvalue\": [],\n",
    "    \"wvalue\": [],\n",
    "    \"labels\": [],\n",
    "    \"colors\": [],\n",
    "}\n",
    "for config in configs:\n",
    "    df = read_tree(config[\"path\"], config[\"tree\"])\n",
    "    x, w = calc_xw(df[\"Particle Eta\"], df[\"IL\"], bins)\n",
    "    data[\"xvalue\"].append(x)\n",
    "    data[\"wvalue\"].append(w)\n",
    "    data[\"labels\"].append(config[\"label\"])\n",
    "    data[\"colors\"].append(config[\"color\"])\n",
    "    \n",
    "plt.hist(\n",
    "    data[\"xvalue\"], bins=bins, weights=data[\"wvalue\"],\n",
    "    label=data[\"labels\"], color=data[\"colors\"], stacked=True,\n",
    ")\n",
    "plt.legend(\n",
    "    columnspacing=1.,\n",
    "    loc=9, ncol=3,\n",
    ")\n",
    "plt.xlim(-5, 5)\n",
    "plt.ylim(0, 1.4*sum(data[\"wvalue\"]).max())\n",
    "plt.xlabel('$\\eta$')\n",
    "plt.ylabel('$x/x_0$')\n",
    "plt.savefig(\n",
    "    \"images/interaction_lengths.pdf\",\n",
    "    bbox_inches='tight',\n",
    ")\n",
    "pass"
   ]
  }
 ],
 "metadata": {
  "kernelspec": {
   "display_name": "Python 3",
   "language": "python",
   "name": "python3"
  },
  "language_info": {
   "codemirror_mode": {
    "name": "ipython",
    "version": 3
   },
   "file_extension": ".py",
   "mimetype": "text/x-python",
   "name": "python",
   "nbconvert_exporter": "python",
   "pygments_lexer": "ipython3",
   "version": "3.8.2"
  },
  "widgets": {
   "application/vnd.jupyter.widget-state+json": {
    "state": {},
    "version_major": 2,
    "version_minor": 0
   }
  }
 },
 "nbformat": 4,
 "nbformat_minor": 4
}
